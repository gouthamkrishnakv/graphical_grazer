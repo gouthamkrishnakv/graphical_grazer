{
 "cells": [
  {
   "cell_type": "code",
   "execution_count": 1,
   "metadata": {},
   "outputs": [],
   "source": [
    "# import json\n",
    "import math\n",
    "\n",
    "from matplotlib import pyplot as plt\n",
    "from matplotlib import ticker as mtick\n",
    "\n",
    "from graphical_grazer.graph import Graph"
   ]
  },
  {
   "cell_type": "code",
   "execution_count": 2,
   "metadata": {},
   "outputs": [],
   "source": [
    "# Create a function that would return leading digit\n",
    "def get_first_digit(num: int) -> int:\n",
    "    digits = math.floor(math.log10(abs(num)))\n",
    "    return int(num / pow(10, digits))"
   ]
  },
  {
   "cell_type": "markdown",
   "metadata": {},
   "source": [
    "# Generate Collatz's Sequences\n",
    "\n",
    "Here we generate the collatz conjecture sequences."
   ]
  },
  {
   "cell_type": "code",
   "execution_count": 3,
   "metadata": {},
   "outputs": [],
   "source": [
    "# Create value graph\n",
    "values = []\n",
    "\n",
    "# Let i go from 0 to 20,000 - 1\n",
    "for i in range(1, 20_001):\n",
    "    # Create a graph\n",
    "    g = Graph()\n",
    "    # Do recursive visit for a number i\n",
    "    g.visit(i)\n",
    "    # Convert all visited numbers into a list and add it to values\n",
    "    values.append(list(g.vertices.keys()))\n",
    "\n",
    "# -- IGNORE THIS LINE --\n",
    "# This is to dump data as JSON, not required currently.\n",
    "# json.dump(values, open(\"test001_2.json\", \"w\"))"
   ]
  },
  {
   "cell_type": "markdown",
   "metadata": {},
   "source": [
    "# Benford's Law Analysis\n",
    "\n",
    "Here we analyze collatz sequence values with Benford's Law.\n"
   ]
  },
  {
   "cell_type": "code",
   "execution_count": 4,
   "metadata": {},
   "outputs": [
    {
     "name": "stdout",
     "output_type": "stream",
     "text": [
      "[(1, '29.99'), (2, '17.24'), (3, '11.55'), (4, '11.78'), (5, '7.96'), (6, '5.48'), (7, '5.65'), (8, '5.53'), (9, '4.83')]\n"
     ]
    }
   ],
   "source": [
    "# Create a first-digit counter\n",
    "counter_1 = dict(((k, 0) for k in range(1, 10)))\n",
    "# Keep the total of all values as 0\n",
    "total = 0\n",
    "\n",
    "for single_arr in values:\n",
    "    if single_arr == [0]:\n",
    "        continue\n",
    "    for i in map(get_first_digit, single_arr):\n",
    "        counter_1[i] += 1\n",
    "        total += 1\n",
    "\n",
    "# print(counter)\n",
    "\n",
    "print(list(map(lambda i: (i, f\"{counter_1[i] / total * 100:.2f}\".format()), counter_1)))"
   ]
  },
  {
   "cell_type": "code",
   "execution_count": 5,
   "metadata": {},
   "outputs": [
    {
     "name": "stdout",
     "output_type": "stream",
     "text": [
      "['1: 29.99%', '2: 17.24%', '3: 11.55%', '4: 11.78%', '5: 7.96%', '6: 5.48%', '7: 5.65%', '8: 5.53%', '9: 4.83%']\n"
     ]
    },
    {
     "data": {
      "image/png": "[encoded data removed]",
      "text/plain": [
       "<Figure size 1152x648 with 1 Axes>"
      ]
     },
     "metadata": {
      "needs_background": "light"
     },
     "output_type": "display_data"
    }
   ],
   "source": [
    "plt.figure(figsize=(16,9))\n",
    "\n",
    "barfigure = plt.bar(counter_1.keys(), list(map(lambda x: x / total,counter_1.values())))\n",
    "\n",
    "# Put Axes\n",
    "_ = axes = plt.gca()\n",
    "\n",
    "_ = axes.get_yaxis().set_major_formatter(mtick.PercentFormatter(1.0))\n",
    "\n",
    "_ = axes.set_xticks(range(len(counter_1) + 1))\n",
    "\n",
    "# Set Axes Labels\n",
    "_ = axes.set_xlabel(\"Leading Digit Numbers for Collatz Sequence\")\n",
    "_ = axes.set_ylabel(\"Frequency of numbers, normalized by total numbers\")\n",
    "\n",
    "print(list(map(lambda i: f\"{i}: {counter_1[i] / total * 100 :.2f}%\", counter_1)))"
   ]
  }
 ],
 "metadata": {
  "interpreter": {
   "hash": "0ab5d2fabd9e6ccdb99e831aa6469a0da1f5234f712ce9fd47fe7f0eebc1219d"
  },
  "kernelspec": {
   "display_name": "Python 3.10.0 64-bit ('.venv': poetry)",
   "language": "python",
   "name": "python3"
  },
  "language_info": {
   "codemirror_mode": {
    "name": "ipython",
    "version": 3
   },
   "file_extension": ".py",
   "mimetype": "text/x-python",
   "name": "python",
   "nbconvert_exporter": "python",
   "pygments_lexer": "ipython3",
   "version": "3.10.6"
  },
  "orig_nbformat": 4
 },
 "nbformat": 4,
 "nbformat_minor": 2
}
